{
 "cells": [
  {
   "cell_type": "code",
   "execution_count": 3,
   "metadata": {},
   "outputs": [],
   "source": [
    "data = {\"biaya_produksi\": 35000,\n",
    "        \"harga_jual\": 50000,\n",
    "       \"jumlah_produk\": 1200, \n",
    "       \"persediaan_sisa\": 100}"
   ]
  },
  {
   "cell_type": "code",
   "execution_count": 1,
   "metadata": {},
   "outputs": [],
   "source": [
    "from produksi import *"
   ]
  },
  {
   "cell_type": "code",
   "execution_count": 2,
   "metadata": {},
   "outputs": [],
   "source": [
    "import produksi as prd"
   ]
  },
  {
   "cell_type": "code",
   "execution_count": 3,
   "metadata": {},
   "outputs": [
    {
     "data": {
      "text/plain": [
       "<function produksi.hpp(data)>"
      ]
     },
     "execution_count": 3,
     "metadata": {},
     "output_type": "execute_result"
    }
   ],
   "source": [
    "prd.hpp"
   ]
  },
  {
   "cell_type": "code",
   "execution_count": 4,
   "metadata": {},
   "outputs": [
    {
     "ename": "TypeError",
     "evalue": "hpp() missing 1 required positional argument: 'data'",
     "output_type": "error",
     "traceback": [
      "\u001b[1;31m---------------------------------------------------------------------------\u001b[0m",
      "\u001b[1;31mTypeError\u001b[0m                                 Traceback (most recent call last)",
      "\u001b[1;32mc:\\Users\\user\\OneDrive\\Dokumen\\Ular Piton\\perhitungan_produksi.ipynb Cell 5\u001b[0m line \u001b[0;36m1\n\u001b[1;32m----> <a href='vscode-notebook-cell:/c%3A/Users/user/OneDrive/Dokumen/Ular%20Piton/perhitungan_produksi.ipynb#W4sZmlsZQ%3D%3D?line=0'>1</a>\u001b[0m prd\u001b[39m.\u001b[39;49mhpp()\n",
      "\u001b[1;31mTypeError\u001b[0m: hpp() missing 1 required positional argument: 'data'"
     ]
    }
   ],
   "source": [
    "prd.hpp()"
   ]
  },
  {
   "cell_type": "code",
   "execution_count": 9,
   "metadata": {},
   "outputs": [
    {
     "ename": "KeyError",
     "evalue": "'jumlah_persediaan'",
     "output_type": "error",
     "traceback": [
      "\u001b[1;31m---------------------------------------------------------------------------\u001b[0m",
      "\u001b[1;31mKeyError\u001b[0m                                  Traceback (most recent call last)",
      "\u001b[1;32mc:\\Users\\user\\OneDrive\\Dokumen\\Ular Piton\\perhitungan_produksi.ipynb Cell 6\u001b[0m line \u001b[0;36m1\n\u001b[1;32m----> <a href='vscode-notebook-cell:/c%3A/Users/user/OneDrive/Dokumen/Ular%20Piton/perhitungan_produksi.ipynb#W5sZmlsZQ%3D%3D?line=0'>1</a>\u001b[0m prd\u001b[39m.\u001b[39;49mhpp(data)\n",
      "File \u001b[1;32mc:\\Users\\user\\OneDrive\\Dokumen\\Ular Piton\\produksi.py:12\u001b[0m, in \u001b[0;36mhpp\u001b[1;34m(data)\u001b[0m\n\u001b[0;32m     11\u001b[0m \u001b[39mdef\u001b[39;00m \u001b[39mhpp\u001b[39m(data):\n\u001b[1;32m---> 12\u001b[0m     cogs \u001b[39m=\u001b[39m data[\u001b[39m\"\u001b[39m\u001b[39mbiaya_produksi\u001b[39m\u001b[39m\"\u001b[39m] \u001b[39m+\u001b[39m data[\u001b[39m\"\u001b[39m\u001b[39mjumlah_produk\u001b[39m\u001b[39m\"\u001b[39m] \u001b[39m-\u001b[39m data[\u001b[39m\"\u001b[39;49m\u001b[39mjumlah_persediaan\u001b[39;49m\u001b[39m\"\u001b[39;49m]\n\u001b[0;32m     14\u001b[0m     \u001b[39mprint\u001b[39m(\u001b[39mf\u001b[39m\u001b[39m'\u001b[39m\u001b[39mcogs yang didapatkan adalah \u001b[39m\u001b[39m{\u001b[39;00mcogs\u001b[39m}\u001b[39;00m\u001b[39m'\u001b[39m)\n",
      "\u001b[1;31mKeyError\u001b[0m: 'jumlah_persediaan'"
     ]
    }
   ],
   "source": [
    "prd.hpp(data)"
   ]
  },
  {
   "cell_type": "code",
   "execution_count": 11,
   "metadata": {},
   "outputs": [],
   "source": [
    "import produksi as prd"
   ]
  },
  {
   "cell_type": "code",
   "execution_count": 12,
   "metadata": {},
   "outputs": [
    {
     "ename": "KeyError",
     "evalue": "'jumlah_persediaan'",
     "output_type": "error",
     "traceback": [
      "\u001b[1;31m---------------------------------------------------------------------------\u001b[0m",
      "\u001b[1;31mKeyError\u001b[0m                                  Traceback (most recent call last)",
      "\u001b[1;32mc:\\Users\\user\\OneDrive\\Dokumen\\Ular Piton\\perhitungan_produksi.ipynb Cell 8\u001b[0m line \u001b[0;36m1\n\u001b[1;32m----> <a href='vscode-notebook-cell:/c%3A/Users/user/OneDrive/Dokumen/Ular%20Piton/perhitungan_produksi.ipynb#X10sZmlsZQ%3D%3D?line=0'>1</a>\u001b[0m prd\u001b[39m.\u001b[39;49mhpp(data)\n",
      "File \u001b[1;32mc:\\Users\\user\\OneDrive\\Dokumen\\Ular Piton\\produksi.py:12\u001b[0m, in \u001b[0;36mhpp\u001b[1;34m(data)\u001b[0m\n\u001b[0;32m     11\u001b[0m \u001b[39mdef\u001b[39;00m \u001b[39mhpp\u001b[39m(data):\n\u001b[1;32m---> 12\u001b[0m     cogs \u001b[39m=\u001b[39m data[\u001b[39m\"\u001b[39m\u001b[39mbiaya_produksi\u001b[39m\u001b[39m\"\u001b[39m] \u001b[39m+\u001b[39m data[\u001b[39m\"\u001b[39m\u001b[39mjumlah_produk\u001b[39m\u001b[39m\"\u001b[39m] \u001b[39m-\u001b[39m data[\u001b[39m\"\u001b[39;49m\u001b[39mjumlah_persediaan\u001b[39;49m\u001b[39m\"\u001b[39;49m]\n\u001b[0;32m     14\u001b[0m     \u001b[39mprint\u001b[39m(\u001b[39mf\u001b[39m\u001b[39m'\u001b[39m\u001b[39mcogs yang didapatkan adalah \u001b[39m\u001b[39m{\u001b[39;00mcogs\u001b[39m}\u001b[39;00m\u001b[39m'\u001b[39m)\n",
      "\u001b[1;31mKeyError\u001b[0m: 'jumlah_persediaan'"
     ]
    }
   ],
   "source": [
    "prd.hpp(data)"
   ]
  },
  {
   "cell_type": "code",
   "execution_count": 1,
   "metadata": {},
   "outputs": [],
   "source": [
    "import produksi"
   ]
  },
  {
   "cell_type": "code",
   "execution_count": 5,
   "metadata": {},
   "outputs": [
    {
     "name": "stdout",
     "output_type": "stream",
     "text": [
      "profit yang didapatkan adalah 18000000\n"
     ]
    }
   ],
   "source": [
    "produksi.profit(data)"
   ]
  },
  {
   "cell_type": "code",
   "execution_count": null,
   "metadata": {},
   "outputs": [],
   "source": []
  }
 ],
 "metadata": {
  "kernelspec": {
   "display_name": "Python 3",
   "language": "python",
   "name": "python3"
  },
  "language_info": {
   "codemirror_mode": {
    "name": "ipython",
    "version": 3
   },
   "file_extension": ".py",
   "mimetype": "text/x-python",
   "name": "python",
   "nbconvert_exporter": "python",
   "pygments_lexer": "ipython3",
   "version": "3.12.0b2"
  }
 },
 "nbformat": 4,
 "nbformat_minor": 2
}
